{
 "cells": [
  {
   "cell_type": "markdown",
   "id": "015118db",
   "metadata": {},
   "source": [
    "\n",
    "## Laboratorium 1\n",
    "\n",
    "\n",
    "### Opis\n",
    "\n",
    "Celem laboratorium jest instalacja środowiska programistycznego oraz zapoznanie się z podstawowymi bibliotekami do przetwarzania danych w języku Python.\n",
    "\n",
    "### Termin\n",
    "Zadanie należy wykonać w trakcie trwania laboratorium lub przed kolejnym terminem.\n",
    "\n",
    "<u>Uwaga:</u>\n",
    "\n",
    "Zadanie indywidualne. Każdy student powinien pobrać treść zadania i wykonać je samodzielnie.\n",
    "Wysyłając zadanie potwierdasz, że wykonałeś je samodzielnie i jest to Twoja indywidualna praca, a materiał przedstawiony w tej pracy jest dla Ciebie zrozumiały.\n",
    "\n",
    "\n",
    "### Zbiór danych\n",
    "\n",
    "Zbiór danych znajduje się w katalogu `dataset/*`.\n",
    "\n",
    "### Przesyłanie zadań\n",
    "\n",
    "Wszystkie pliki należy spakować archiwizatorem **zip** i przesłać za pośrednictwem platformy WIKAMP. Poniżej oczekiwana zawartość archiwum:\n",
    "\n",
    "```\n",
    "+-- 📂 [IMIE.NAZWISKO].zip\n",
    "    +-- 📜 Lab01.ipynb\n",
    "    +-- 📂 dataset\n",
    "        +-- 📜 dane.npz\n",
    "        +-- 📜 dane-ludnosc.npz\n",
    "```\n",
    "\n",
    "\n",
    "\n",
    "### Instalacja środowiska\n",
    "\n",
    "Wymagania:\n",
    "- Python>=3.8\n",
    "- notebook\n",
    "- numpy\n",
    "- pandas\n",
    "- matplotlib\n",
    "- scikit-learn\n",
    "- scipy\n",
    "\n",
    "Sprawdź wersję Pythona jaką masz zainstalowaną w systemie:\n",
    "`python -V`\n",
    "\n",
    "#### Instalacja (dwa warianty):\n",
    "\n",
    "#### Dla zainstalowanej instancji Pythona\n",
    "\n",
    "`pip install notebook numpy pandas matplotlib scikit-learn scipy`\n",
    "\n",
    "#### Dla środowiska Conda\n",
    "\n",
    "`conda create -n smpd python=3.8 notebook numpy pandas matplotlib scikit-learn scipy`\n",
    "\n",
    "\n",
    "### Zadania\n",
    "\n",
    "#### Zadanie 1\n",
    "\n",
    "Wczytaj dane z pliku `dane.npz`. Plik ten zawiera zbiór danych zawierający **WYDATKI BUDŻETÓW WOJEWÓDZTW**.\n",
    "\n",
    "> Podpowiedź: Możesz wykorzystać poniższy kod:\n",
    "```python\n",
    "import numpy as np\n",
    "with open('./dataset/dane.npz', 'rb') as f:\n",
    "    content = np.load(f)\n",
    "    columns, data = content['columns'].tolist(), content['data'].tolist()\n",
    "```"
   ]
  },
  {
   "cell_type": "code",
   "execution_count": null,
   "id": "fd6e4348",
   "metadata": {},
   "outputs": [],
   "source": [
    "# TUTAJ UMIESC SWOJ KOD"
   ]
  },
  {
   "cell_type": "markdown",
   "id": "40d02277",
   "metadata": {},
   "source": [
    "#### Zadanie 2\n",
    "\n",
    "Zapoznaj się z zawartością zmiennych `columns` oraz `data`.\n"
   ]
  },
  {
   "cell_type": "code",
   "execution_count": null,
   "id": "244b1d3a",
   "metadata": {},
   "outputs": [],
   "source": [
    "# TUTAJ UMIESC SWOJ KOD"
   ]
  },
  {
   "cell_type": "markdown",
   "id": "2d74fa9e",
   "metadata": {},
   "source": [
    "#### Zadanie 3\n",
    "\n",
    "Wyświetl tylko dane z roku 2008.\n"
   ]
  },
  {
   "cell_type": "code",
   "execution_count": null,
   "id": "0f75b74d",
   "metadata": {},
   "outputs": [],
   "source": [
    "# TUTAJ UMIESC SWOJ KOD"
   ]
  },
  {
   "cell_type": "markdown",
   "id": "98078a91",
   "metadata": {},
   "source": [
    "#### Zadanie 4\n",
    "\n",
    "Wyświetl wykres uwzględniając 10 województw (bez sumarycznego dla całego kraju), w których wydatki budżetów były największe w roku 2008.\n",
    "\n",
    "> Podpowiedź: Możesz w tym celu wykorzystać moduł matplotlib.pyplot. Przykład:\n",
    "```python\n",
    "import matplotlib.pyplot as plt\n",
    "plt.bar([1, 2, 3], [5, 2, 4])\n",
    "```\n",
    "\n",
    "> Podpowiedź 2: Sprawdź inne funkcje aby utworzyć tytuł wykresu, oznaczyć osie, wyświetlić legendę i zmienić kolory słupków. https://matplotlib.org/stable/tutorials/introductory/pyplot.html"
   ]
  },
  {
   "cell_type": "code",
   "execution_count": null,
   "id": "44b0bcb4",
   "metadata": {},
   "outputs": [],
   "source": [
    "# TUTAJ UMIESC SWOJ KOD"
   ]
  },
  {
   "cell_type": "markdown",
   "id": "2148774e",
   "metadata": {},
   "source": [
    "#### Zadanie 5\n",
    "\n",
    "Wczytaj dane z pliku `dane-ludnosc.npz`. Plik ten zawiera zbiór danych zawierający **liczbę ludnosci**.\n",
    "\n",
    "Oblicz wydatki z budżetu na mieszkańca dla każdego z województw (_uwzględnij dane z roku 2008_).\n"
   ]
  },
  {
   "cell_type": "code",
   "execution_count": null,
   "id": "2ed3a2d6",
   "metadata": {},
   "outputs": [],
   "source": [
    "# TUTAJ UMIESC SWOJ KOD"
   ]
  },
  {
   "cell_type": "markdown",
   "id": "53e771bb",
   "metadata": {},
   "source": [
    "#### Zadanie 6\n",
    "\n",
    "Które województwo odnotowało największy (oraz najmniejszy) wzrost wydatków z budżetu na mieszkańca pomiędzy latami 2002 a 2020?\n"
   ]
  },
  {
   "cell_type": "code",
   "execution_count": null,
   "id": "c3e13f17",
   "metadata": {},
   "outputs": [],
   "source": [
    "# TUTAJ UMIESC SWOJ KOD"
   ]
  }
 ],
 "metadata": {
  "author": {
   "email": "robert.susik@p.lodz.pl",
   "name": "Robert Susik"
  },
  "kernelspec": {
   "display_name": "Python 3 (ipykernel)",
   "language": "python",
   "name": "python3"
  },
  "language_info": {
   "codemirror_mode": {
    "name": "ipython",
    "version": 3
   },
   "file_extension": ".py",
   "mimetype": "text/x-python",
   "name": "python",
   "nbconvert_exporter": "python",
   "pygments_lexer": "ipython3",
   "version": "3.10.10"
  },
  "toc": {
   "base_numbering": 1,
   "nav_menu": {},
   "number_sections": true,
   "sideBar": true,
   "skip_h1_title": false,
   "title_cell": "Table of Contents",
   "title_sidebar": "Contents",
   "toc_cell": false,
   "toc_position": {},
   "toc_section_display": true,
   "toc_window_display": false
  }
 },
 "nbformat": 4,
 "nbformat_minor": 5
}
